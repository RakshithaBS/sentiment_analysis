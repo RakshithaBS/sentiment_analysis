{
  "nbformat": 4,
  "nbformat_minor": 0,
  "metadata": {
    "colab": {
      "name": "sentiment_analysis.ipynb",
      "provenance": []
    },
    "kernelspec": {
      "name": "python3",
      "display_name": "Python 3"
    },
    "language_info": {
      "name": "python"
    }
  },
  "cells": [
    {
      "cell_type": "markdown",
      "source": [
        "# **Sentiment Analysis using Neural Networks**\n",
        "\n",
        "### **Description**\n",
        "\n",
        "Sentiment analysis is a wellknown application of Natural Language Processing.It helps us identify the tone in the sentence- positive, negative or neutral. Sentiment analysis has various use cases. One such use case could be to identify sentiment in the support tickets which can help to assign priority for resolution. Machine Learning and NLP models can be used to train on a large dataset to predict the sentiment of the sentence. In this notebook the model is trained on the IMDB reviews dataset provided by tensorflow."
      ],
      "metadata": {
        "id": "fFmg20MdQucP"
      }
    },
    {
      "cell_type": "markdown",
      "source": [
        "### **Importing the dataset**\n",
        "\n",
        "\n",
        "\n",
        "1.   Load the data from tensorflow datasets\n",
        "2.   Split the data into sentences and labels\n",
        "\n",
        " Here labels are values to be predicted\n",
        "\n",
        "\n"
      ],
      "metadata": {
        "id": "F3i8YVRRvLT5"
      }
    },
    {
      "cell_type": "code",
      "metadata": {
        "id": "huN_FPSz4oQM"
      },
      "source": [
        "import tensorflow as tf\n",
        "import tensorflow_datasets as tfds\n",
        "imdb,info = tfds.load(\"imdb_reviews\",with_info = True,as_supervised=True)\n",
        "\n",
        "import numpy as np\n",
        "train_data,test_data = imdb['train'],imdb['test']\n",
        "training_sentences =[]\n",
        "training_labels=[]\n",
        "\n",
        "testing_sentences=[]\n",
        "testing_labels=[]\n",
        "\n",
        "for s,l in train_data:\n",
        "  training_sentences.append(s.numpy().decode('utf8'))\n",
        "  training_labels.append(l.numpy())\n",
        "\n",
        "for s,l in test_data:\n",
        "  testing_sentences.append(s.numpy().decode('utf8'))\n",
        "  testing_labels.append(l.numpy())\n",
        "\n",
        "training_labels_final = np.array(training_labels)\n",
        "testing_labels_final = np.array(testing_labels)"
      ],
      "execution_count": 11,
      "outputs": []
    },
    {
      "cell_type": "markdown",
      "source": [
        "### **Creating a vocabulary**\n",
        "\n",
        "The next step is to create a vocabulary of words that can be used to train. Each word is assigned a value, this process is called Tokenization. Since the neural network models are designed for values, we need to convert text to a number. If a new word which is not present in vocabulary is encountered then, the tokenizer assigns <OOV> to the word.\n",
        "\n",
        "\n"
      ],
      "metadata": {
        "id": "wmfHB9tswjWh"
      }
    },
    {
      "cell_type": "code",
      "source": [
        "vocab_size=10000\n",
        "embedding_dim=16\n",
        "max_length=20\n",
        "\n",
        "from tensorflow.keras.preprocessing.text import Tokenizer\n",
        "from tensorflow.keras.preprocessing.sequence import pad_sequences\n",
        "\n",
        "tokenizer = Tokenizer(num_words=vocab_size,oov_token='<OOV>')\n",
        "tokenizer.fit_on_texts(training_sentences)\n",
        "word_index=tokenizer.word_index\n",
        "\n",
        "training_sequence =tokenizer.texts_to_sequences(training_sentences)\n",
        "padded = pad_sequences(training_sequence,truncating='post',maxlen=max_length)\n",
        "\n",
        "testing_sequence =tokenizer.texts_to_sequences(testing_sentences)\n",
        "testing_padded = pad_sequences(testing_sequence,truncating='post',maxlen=max_length)\n"
      ],
      "metadata": {
        "id": "AdxVXW3LPfA_"
      },
      "execution_count": 12,
      "outputs": []
    },
    {
      "cell_type": "markdown",
      "source": [
        "### **Training the model**\n",
        "\n",
        "Here a simple sequential model with Embedding layer is used to train on the training sequences(text converted to a sequence of numbers). "
      ],
      "metadata": {
        "id": "VcY5uDkpyOpF"
      }
    },
    {
      "cell_type": "code",
      "source": [
        "model = tf.keras.models.Sequential([\n",
        "                                    tf.keras.layers.Embedding(vocab_size,embedding_dim,input_length=max_length),\n",
        "                                    tf.keras.layers.Flatten(),\n",
        "                                    tf.keras.layers.Dense(6,activation='relu'),\n",
        "                                    tf.keras.layers.Dense(1,activation='sigmoid')\n",
        "\n",
        "])\n",
        "model.summary()\n",
        "model.compile(loss='binary_crossentropy',optimizer='adam',metrics=['accuracy'])\n",
        "history=model.fit(padded, training_labels_final, epochs=10,validation_data=(testing_padded,testing_labels_final))"
      ],
      "metadata": {
        "colab": {
          "base_uri": "https://localhost:8080/"
        },
        "id": "Y_oxlJNvPqeQ",
        "outputId": "db971d15-59b5-4628-e612-43abb215e763"
      },
      "execution_count": 14,
      "outputs": [
        {
          "output_type": "stream",
          "name": "stdout",
          "text": [
            "Model: \"sequential_3\"\n",
            "_________________________________________________________________\n",
            " Layer (type)                Output Shape              Param #   \n",
            "=================================================================\n",
            " embedding_3 (Embedding)     (None, 20, 16)            160000    \n",
            "                                                                 \n",
            " flatten_2 (Flatten)         (None, 320)               0         \n",
            "                                                                 \n",
            " dense_6 (Dense)             (None, 6)                 1926      \n",
            "                                                                 \n",
            " dense_7 (Dense)             (None, 1)                 7         \n",
            "                                                                 \n",
            "=================================================================\n",
            "Total params: 161,933\n",
            "Trainable params: 161,933\n",
            "Non-trainable params: 0\n",
            "_________________________________________________________________\n",
            "Epoch 1/10\n",
            "782/782 [==============================] - 4s 4ms/step - loss: 0.6337 - accuracy: 0.6263 - val_loss: 0.5629 - val_accuracy: 0.7007\n",
            "Epoch 2/10\n",
            "782/782 [==============================] - 3s 4ms/step - loss: 0.4504 - accuracy: 0.7894 - val_loss: 0.5810 - val_accuracy: 0.6964\n",
            "Epoch 3/10\n",
            "782/782 [==============================] - 3s 3ms/step - loss: 0.2938 - accuracy: 0.8831 - val_loss: 0.6853 - val_accuracy: 0.6774\n",
            "Epoch 4/10\n",
            "782/782 [==============================] - 3s 4ms/step - loss: 0.1531 - accuracy: 0.9521 - val_loss: 0.8528 - val_accuracy: 0.6648\n",
            "Epoch 5/10\n",
            "782/782 [==============================] - 3s 4ms/step - loss: 0.0718 - accuracy: 0.9824 - val_loss: 1.0406 - val_accuracy: 0.6598\n",
            "Epoch 6/10\n",
            "782/782 [==============================] - 4s 5ms/step - loss: 0.0324 - accuracy: 0.9939 - val_loss: 1.2250 - val_accuracy: 0.6545\n",
            "Epoch 7/10\n",
            "782/782 [==============================] - 4s 5ms/step - loss: 0.0141 - accuracy: 0.9983 - val_loss: 1.3863 - val_accuracy: 0.6548\n",
            "Epoch 8/10\n",
            "782/782 [==============================] - 3s 4ms/step - loss: 0.0066 - accuracy: 0.9995 - val_loss: 1.5338 - val_accuracy: 0.6539\n",
            "Epoch 9/10\n",
            "782/782 [==============================] - 3s 4ms/step - loss: 0.0035 - accuracy: 0.9997 - val_loss: 1.6674 - val_accuracy: 0.6502\n",
            "Epoch 10/10\n",
            "782/782 [==============================] - 3s 3ms/step - loss: 0.0021 - accuracy: 0.9998 - val_loss: 1.7684 - val_accuracy: 0.6516\n"
          ]
        }
      ]
    },
    {
      "cell_type": "markdown",
      "source": [
        "### **Plotting Training accuracy vs Validation Accuracy**"
      ],
      "metadata": {
        "id": "0czZNEu717fh"
      }
    },
    {
      "cell_type": "code",
      "source": [
        "import matplotlib.pyplot as plt\n",
        "\n",
        "acc = history.history['accuracy']\n",
        "val_acc=history.history['val_accuracy']\n",
        "plt.plot(acc,'r',label=\"Training\")\n",
        "plt.plot(val_acc,'b',label='Vaildation')\n",
        "plt.legend()\n",
        "plt.title(\" Training vs validation accuracy\")\n",
        "plt.show()\n"
      ],
      "metadata": {
        "colab": {
          "base_uri": "https://localhost:8080/",
          "height": 281
        },
        "id": "jogAEFhaQgf1",
        "outputId": "6126d268-4a3d-4947-8d1d-a2ec4972edde"
      },
      "execution_count": 17,
      "outputs": [
        {
          "output_type": "display_data",
          "data": {
            "image/png": "[encoded data removed]",
            "text/plain": [
              "<Figure size 432x288 with 1 Axes>"
            ]
          },
          "metadata": {
            "needs_background": "light"
          }
        }
      ]
    }
  ]
}